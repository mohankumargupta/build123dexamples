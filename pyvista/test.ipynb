{
 "cells": [
  {
   "cell_type": "code",
   "execution_count": 1,
   "id": "f8930c40",
   "metadata": {},
   "outputs": [],
   "source": [
    "import vtk\n",
    "import pyvista as pv"
   ]
  },
  {
   "cell_type": "code",
   "execution_count": 2,
   "id": "cb0837c5",
   "metadata": {},
   "outputs": [],
   "source": [
    "# Create a circle using vtk\n",
    "polygonSource = vtk.vtkRegularPolygonSource()\n",
    "polygonSource.GeneratePolygonOff()\n",
    "polygonSource.SetNumberOfSides(50)\n",
    "polygonSource.SetRadius(5.0)\n",
    "polygonSource.SetCenter(0.0, 0.0, 0.0)\n",
    "polygonSource.Update()"
   ]
  },
  {
   "cell_type": "code",
   "execution_count": 3,
   "id": "875fbc67",
   "metadata": {},
   "outputs": [
    {
     "data": {
      "application/vnd.jupyter.widget-view+json": {
       "model_id": "40f937c4c22e4687870063c45200524e",
       "version_major": 2,
       "version_minor": 0
      },
      "text/plain": [
       "Widget(value='<iframe src=\"http://localhost:50593/index.html?ui=P_0x1ba6b771e90_0&reconnect=auto\" class=\"pyvis…"
      ]
     },
     "metadata": {},
     "output_type": "display_data"
    }
   ],
   "source": [
    "# wrap and plot using pyvista\n",
    "mesh = pv.wrap(polygonSource.GetOutput())\n",
    "mesh.plot(line_width=3, cpos='xy', color='k')"
   ]
  }
 ],
 "metadata": {
  "jupytext": {
   "cell_metadata_filter": "-all",
   "main_language": "python",
   "notebook_metadata_filter": "-all"
  },
  "kernelspec": {
   "display_name": ".venv",
   "language": "python",
   "name": "python3"
  },
  "language_info": {
   "codemirror_mode": {
    "name": "ipython",
    "version": 3
   },
   "file_extension": ".py",
   "mimetype": "text/x-python",
   "name": "python",
   "nbconvert_exporter": "python",
   "pygments_lexer": "ipython3",
   "version": "3.11.9"
  }
 },
 "nbformat": 4,
 "nbformat_minor": 5
}
